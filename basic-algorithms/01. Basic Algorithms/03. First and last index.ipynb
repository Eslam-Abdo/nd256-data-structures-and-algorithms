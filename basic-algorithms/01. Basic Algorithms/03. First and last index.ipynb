{
 "cells": [
  {
   "cell_type": "markdown",
   "metadata": {
    "graffitiCellId": "id_pr3r54a"
   },
   "source": [
    "## Problem statement\n",
    "\n",
    "Given a sorted array that may have duplicate values, use *binary search* to find the **first** and **last** indexes of a given value.\n",
    "\n",
    "For example, if you have the array `[0, 1, 2, 2, 3, 3, 3, 4, 5, 6]` and the given value is `3`, the answer will be `[4, 6]` (because the value `3` occurs first at index `4` and last at index `6` in the array).\n",
    "\n",
    "The expected complexity of the problem is $O(log(n))$."
   ]
  },
  {
   "cell_type": "code",
   "execution_count": 53,
   "metadata": {},
   "outputs": [],
   "source": [
    "def binary_search(arr,number,left,right):\n",
    "    if left > right:\n",
    "        return -1\n",
    "    mid = (right + left) // 2 \n",
    "    if arr[mid] == number:\n",
    "        return mid\n",
    "    elif arr[mid] > number:\n",
    "        return binary_search(arr,number,left,mid-1)\n",
    "    else:\n",
    "        return binary_search(arr,number,mid+1,right)"
   ]
  },
  {
   "cell_type": "code",
   "execution_count": 54,
   "metadata": {},
   "outputs": [],
   "source": [
    "def first_and_last_index(arr, number):\n",
    "    \"\"\"\n",
    "    Given a sorted array that may have duplicate values, use binary \n",
    "    search to find the first and last indexes of a given value.\n",
    "\n",
    "    Args:\n",
    "        arr(list): Sorted array (or Python list) that may have duplicate values\n",
    "        number(int): Value to search for in the array\n",
    "    Returns:\n",
    "        a list containing the first and last indexes of the given value\n",
    "    \"\"\"\n",
    "        \n",
    "    # TODO: Write your first_and_last function here\n",
    "    # Note that you may want to write helper functions to find the start \n",
    "    # index and the end index\n",
    "    idx = binary_search(arr,number,0,len(arr)-1)\n",
    "    first_idx = idx\n",
    "    last_idx = idx\n",
    "    # if idx is None:\n",
    "    #     return[-1,-1]\n",
    "    if idx == 0:\n",
    "        first_idx = 0\n",
    "    while first_idx > 0 and arr[first_idx-1] == number:\n",
    "        first_idx -=1\n",
    "    while last_idx < (len(arr)-2) and arr[last_idx+1] == number:\n",
    "        last_idx +=1\n",
    "    print([first_idx , last_idx])\n",
    "    return [first_idx , last_idx]\n"
   ]
  },
  {
   "cell_type": "markdown",
   "metadata": {
    "graffitiCellId": "id_y3lxp1x"
   },
   "source": [
    "<span class=\"graffiti-highlight graffiti-id_y3lxp1x-id_fkngaks\"><i></i><button>Show Solution</button></span>"
   ]
  },
  {
   "cell_type": "code",
   "execution_count": 1,
   "metadata": {
    "graffitiCellId": "id_stslkm6"
   },
   "outputs": [],
   "source": [
    "def first_and_last_index(arr, number):\n",
    "    \"\"\"\n",
    "    Given a sorted array that may have duplicate values, use binary \n",
    "    search to find the first and last indexes of a given value.\n",
    "\n",
    "    Args:\n",
    "        arr(list): Sorted array (or Python list) that may have duplicate values\n",
    "        number(int): Value to search for in the array\n",
    "    Returns:\n",
    "        a list containing the first and last indexes of the given value\n",
    "    \"\"\"\n",
    "        \n",
    "    # TODO: Write your first_and_last function here\n",
    "    # Note that you may want to write helper functions to find the start \n",
    "    # index and the end index\n",
    "    first_index = find_start_index(arr, number, 0, len(arr) - 1)\n",
    "    last_index =  find_end_index(arr, number, 0, len(arr) - 1)\n",
    "    return [first_index, last_index]\n",
    "\n",
    "\n",
    "def find_start_index(arr, number, start_index, end_index):\n",
    "    if start_index > end_index:\n",
    "        return -1\n",
    "\n",
    "    mid_index = start_index + (end_index - start_index)//2\n",
    "\n",
    "    if arr[mid_index] == number:\n",
    "        current_start_pos = find_start_index(arr, number, start_index, mid_index - 1)\n",
    "        if current_start_pos != -1:\n",
    "            start_pos = current_start_pos\n",
    "        else:\n",
    "            start_pos = mid_index\n",
    "        return start_pos\n",
    "\n",
    "    elif arr[mid_index] < number:\n",
    "        return find_start_index(arr, number, mid_index + 1, end_index)\n",
    "    else:\n",
    "        return find_start_index(arr, number, start_index, mid_index - 1)\n",
    "\n",
    "\n",
    "def find_end_index(arr, number, start_index, end_index):\n",
    "    if start_index > end_index:\n",
    "        return  -1\n",
    "\n",
    "    mid_index = start_index + (end_index - start_index)//2\n",
    "\n",
    "    if arr[mid_index] == number:\n",
    "        current_end_pos = find_end_index(arr, number, mid_index + 1, end_index)\n",
    "        if current_end_pos != -1:\n",
    "            end_pos = current_end_pos\n",
    "        else:\n",
    "            end_pos = mid_index\n",
    "        return end_pos\n",
    "    elif arr[mid_index] < number:\n",
    "        return find_end_index(arr, number, mid_index + 1, end_index)\n",
    "    else:\n",
    "        return find_end_index(arr, number, start_index, mid_index - 1)"
   ]
  },
  {
   "cell_type": "markdown",
   "metadata": {
    "graffitiCellId": "id_ii2o0tq"
   },
   "source": [
    "Below are several different test cases you can use to check your solution."
   ]
  },
  {
   "cell_type": "code",
   "execution_count": 3,
   "metadata": {
    "graffitiCellId": "id_a8bxvyg"
   },
   "outputs": [],
   "source": [
    "def test_function(test_case):\n",
    "    input_list = test_case[0]\n",
    "    number = test_case[1]\n",
    "    solution = test_case[2]\n",
    "    output = first_and_last_index(input_list, number)\n",
    "    if output == solution:\n",
    "        print(\"Pass\")\n",
    "    else:\n",
    "        print(\"Fail\")"
   ]
  },
  {
   "cell_type": "code",
   "execution_count": 56,
   "metadata": {
    "graffitiCellId": "id_20phd4q"
   },
   "outputs": [
    {
     "name": "stdout",
     "output_type": "stream",
     "text": [
      "[0, 0]\n",
      "Pass\n"
     ]
    }
   ],
   "source": [
    "input_list = [1]\n",
    "number = 1\n",
    "solution = [0, 0]\n",
    "test_case_1 = [input_list, number, solution]\n",
    "test_function(test_case_1)"
   ]
  },
  {
   "cell_type": "code",
   "execution_count": 57,
   "metadata": {
    "graffitiCellId": "id_9p3166p"
   },
   "outputs": [
    {
     "name": "stdout",
     "output_type": "stream",
     "text": [
      "[3, 6]\n",
      "Pass\n"
     ]
    }
   ],
   "source": [
    "input_list = [0, 1, 2, 3, 3, 3, 3, 4, 5, 6]\n",
    "number = 3\n",
    "solution = [3, 6]\n",
    "test_case_2 = [input_list, number, solution]\n",
    "test_function(test_case_2)"
   ]
  },
  {
   "cell_type": "code",
   "execution_count": 58,
   "metadata": {
    "graffitiCellId": "id_pcvcepp"
   },
   "outputs": [
    {
     "name": "stdout",
     "output_type": "stream",
     "text": [
      "[5, 5]\n",
      "Pass\n"
     ]
    }
   ],
   "source": [
    "input_list = [0, 1, 2, 3, 4, 5]\n",
    "number = 5\n",
    "solution = [5, 5]\n",
    "test_case_3 = [input_list, number, solution]\n",
    "test_function(test_case_3)"
   ]
  },
  {
   "cell_type": "code",
   "execution_count": 55,
   "metadata": {
    "graffitiCellId": "id_cz075rp"
   },
   "outputs": [
    {
     "name": "stdout",
     "output_type": "stream",
     "text": [
      "[-1, -1]\n",
      "Pass\n"
     ]
    }
   ],
   "source": [
    "input_list = [0, 1, 2, 3, 4, 5]\n",
    "number = 6\n",
    "solution = [-1, -1]\n",
    "test_case_4 = [input_list, number, solution]\n",
    "test_function(test_case_4)"
   ]
  },
  {
   "cell_type": "code",
   "execution_count": null,
   "metadata": {
    "graffitiCellId": "id_s7tmp45"
   },
   "outputs": [],
   "source": []
  }
 ],
 "metadata": {
  "graffiti": {
   "firstAuthorId": "dev",
   "id": "id_qwr7xir",
   "language": "EN"
  },
  "kernelspec": {
   "display_name": "Python 3",
   "language": "python",
   "name": "python3"
  },
  "language_info": {
   "codemirror_mode": {
    "name": "ipython",
    "version": 3
   },
   "file_extension": ".py",
   "mimetype": "text/x-python",
   "name": "python",
   "nbconvert_exporter": "python",
   "pygments_lexer": "ipython3",
   "version": "3.10.12"
  }
 },
 "nbformat": 4,
 "nbformat_minor": 2
}
