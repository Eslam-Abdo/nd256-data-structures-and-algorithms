{
 "cells": [
  {
   "cell_type": "markdown",
   "metadata": {},
   "source": [
    "## DaysBetweenDates"
   ]
  },
  {
   "cell_type": "code",
   "execution_count": 41,
   "metadata": {},
   "outputs": [],
   "source": [
    "def isLeapYear(year):\n",
    "    if year % 400 == 0:\n",
    "        return True\n",
    "    elif year % 100 == 0:\n",
    "        return False\n",
    "    elif year % 4 == 0:\n",
    "        return True\n",
    "\n",
    "    return False"
   ]
  },
  {
   "cell_type": "code",
   "execution_count": 37,
   "metadata": {},
   "outputs": [],
   "source": [
    "def daysInMonth(year,month):\n",
    "    months = [31, 28, 31,30,31,30,31,31,30,31,30,31]\n",
    "\n",
    "    return months[month-1] if not (isLeapYear(year) and month == 2) else months[month-1] + 1 "
   ]
  },
  {
   "cell_type": "code",
   "execution_count": 33,
   "metadata": {},
   "outputs": [],
   "source": [
    "###\n",
    "### Define a simple nextDay procedure, that assumes\n",
    "### every month has 30 days.\n",
    "###\n",
    "### For example:\n",
    "###    nextDay(1999, 12, 30) => (2000, 1, 1)\n",
    "###    nextDay(2013, 1, 30) => (2013, 2, 1)\n",
    "###    nextDay(2012, 12, 30) => (2013, 1, 1)  (even though December really has 31 days)\n",
    "###\n",
    "\n",
    "def nextDay(year, month, day):\n",
    "    \"\"\"\n",
    "    Returns the year, month, day of the next day.\n",
    "    Simple version: assume every month has 30 days.\n",
    "    \"\"\"\n",
    "    # YOUR CODE HERE\n",
    "    day += 1\n",
    "    if day > daysInMonth(year,month) :\n",
    "        day = 1\n",
    "        month += 1\n",
    "    if month > 12:\n",
    "        month = 1\n",
    "        year += 1\n",
    "\n",
    "    return tuple((year, month, day))"
   ]
  },
  {
   "cell_type": "code",
   "execution_count": null,
   "metadata": {},
   "outputs": [],
   "source": []
  },
  {
   "cell_type": "code",
   "execution_count": 27,
   "metadata": {},
   "outputs": [
    {
     "name": "stdout",
     "output_type": "stream",
     "text": [
      "(2000, 1, 1)\n",
      "(2013, 2, 1)\n",
      "(2013, 1, 1)\n",
      "(2012, 6, 30)\n",
      "(2012, 2, 1)\n",
      "(2013, 1, 1)\n"
     ]
    }
   ],
   "source": [
    "print(nextDay(1999, 12, 30)) # => (2000, 1, 1)\n",
    "print(nextDay(2013, 1, 30))  # => (2013, 2, 1)\n",
    "print(nextDay(2012, 12, 30)) # => (2013, 1, 1)  (even though December really has 31 days)\n",
    "\n",
    "print(nextDay(2012, 6, 29)) # => (2012, 6, 30)\n",
    "print(nextDay(2012, 1, 30))  # => (2012, 2, 1)\n",
    "print(nextDay(2012, 12, 31)) # => (2013, 1, 1)  (even though December really has 31 days)"
   ]
  },
  {
   "cell_type": "code",
   "execution_count": 34,
   "metadata": {},
   "outputs": [],
   "source": [
    "def dateIsBefore(year1, month1, day1, year2, month2, day2):\n",
    "    '''Returns true if year1-month1-day1 is before year2-month2-day2.\n",
    "        otherwise, returns False. '''\n",
    "    if year1 < year2:\n",
    "        return True\n",
    "    elif year1 == year2:\n",
    "        if month1 < month2:\n",
    "            return True\n",
    "        elif month1 == month2:\n",
    "            return day1 < day2\n",
    "    return False"
   ]
  },
  {
   "cell_type": "code",
   "execution_count": 35,
   "metadata": {},
   "outputs": [],
   "source": [
    "# Define a daysBetweenDates procedure that would produce the\n",
    "# correct output if there was a correct nextDay procedure.\n",
    "#\n",
    "# Note that this will NOT produce correct outputs yet, since\n",
    "# our nextDay procedure assumes all months have 30 days\n",
    "# (hence a year is 360 days, instead of 365).\n",
    "# \n",
    "\n",
    "def daysBetweenDates(year1, month1, day1, year2, month2, day2):\n",
    "    \"\"\"Returns the number of days between year1/month1/day1\n",
    "       and year2/month2/day2. Assumes inputs are valid dates\n",
    "       in Gregorian calendar, and the first date is not after\n",
    "       the second.\"\"\"\n",
    "    # program defensively! Add an assertion if the input is not valid!\n",
    "\n",
    "    # YOUR CODE HERE!\n",
    "    # days = day2 - day1 \n",
    "    # days += (month2 - month1) * 30\n",
    "    # days += (year2 - year1) * 30 * 12\n",
    "    assert not dateIsBefore(year2, month2, day2, year1, month1, day1)\n",
    "\n",
    "    days = 0\n",
    "    date1 = tuple((year1, month1, day1))\n",
    "    date2 = tuple((year2, month2, day2))\n",
    "       \n",
    "    while dateIsBefore(date1[0],date1[1],date1[2], date2[0],date2[1],date2[2]):\n",
    "        date1 = nextDay(date1[0],date1[1],date1[2])\n",
    "        days += 1\n",
    "\n",
    "\n",
    "    return days\n"
   ]
  },
  {
   "cell_type": "code",
   "execution_count": 24,
   "metadata": {},
   "outputs": [
    {
     "name": "stdout",
     "output_type": "stream",
     "text": [
      "Test case passed!\n",
      "Test case passed!\n",
      "Test case passed!\n",
      "Nice job! Test case (2013, 1, 1, 1999, 12, 31) correctly raises AssertionError!\n",
      "\n"
     ]
    }
   ],
   "source": [
    "\n",
    "def test():\n",
    "    test_cases = [((2012,9,30,2012,10,30),30), \n",
    "                  ((2012,1,1,2013,1,1),360),\n",
    "                  ((2012,9,1,2012,9,4),3),\n",
    "                  ((2012,1,1,2012,2,28), 58), \n",
    "                  ((2012,1,1,2012,3,1), 60),\n",
    "                  ((2011,6,30,2012,6,30), 366),\n",
    "                  ((2011,1,1,2012,8,8), 585 ),\n",
    "                  ((1900,1,1,1999,12,31), 36523),\n",
    "                  ((2013,1,1,1999,12,31), \"AssertionError\")]\n",
    "    \n",
    "    for (args, answer) in test_cases:\n",
    "        try:\n",
    "            result = daysBetweenDates(*args)\n",
    "            if result == answer and answer != \"AssertionError\":\n",
    "                print (\"Test case passed!\")\n",
    "            else:\n",
    "                print (\"Test with data:\", args, \"failed\")\n",
    "    \n",
    "        except AssertionError:\n",
    "            if answer == \"AssertionError\":\n",
    "                print (\"Nice job! Test case {0} correctly raises AssertionError!\\n\".format(args))\n",
    "            else:\n",
    "                print (\"Check your work! Test case {0} should not raise AssertionError!\\n\".format(args))          \n",
    "\n",
    "test()\n",
    "    "
   ]
  },
  {
   "cell_type": "code",
   "execution_count": 44,
   "metadata": {},
   "outputs": [
    {
     "name": "stdout",
     "output_type": "stream",
     "text": [
      "(2013, 3, 1)\n",
      "(2013, 10, 31)\n",
      "365\n",
      "366\n",
      "156\n"
     ]
    }
   ],
   "source": [
    "print(nextDay(2013, 2, 28)) # => (2013, 3, 1)\n",
    "print(nextDay(2013, 10, 30))  # => (2013, 10, 1)\n",
    "print(daysBetweenDates(2013,1,1,2014,1,1) )# => 365\n",
    "\n",
    "print(daysBetweenDates(2012,1,1,2013,1,1) )# => 366\n",
    "print(daysBetweenDates(2013,1,24,2013,6,29) )# => 366\n"
   ]
  },
  {
   "cell_type": "code",
   "execution_count": null,
   "metadata": {},
   "outputs": [],
   "source": []
  }
 ],
 "metadata": {
  "kernelspec": {
   "display_name": "Python 3",
   "language": "python",
   "name": "python3"
  },
  "language_info": {
   "codemirror_mode": {
    "name": "ipython",
    "version": 3
   },
   "file_extension": ".py",
   "mimetype": "text/x-python",
   "name": "python",
   "nbconvert_exporter": "python",
   "pygments_lexer": "ipython3",
   "version": "3.10.12"
  }
 },
 "nbformat": 4,
 "nbformat_minor": 2
}
